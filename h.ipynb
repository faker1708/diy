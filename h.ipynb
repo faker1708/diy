


import numpy as np
import matplotlib.pyplot as plt
m =200 
X =np.random.randn(2,m) #产生2*200 高斯分布 均值为0 方差为1 
Y = (X[0,:]>0)*(X[1,:]>0)*1.0 + (X[0,:]<0)*(X[1,:]<0)
***#可视化 jupyter notebook环境下
%matplotlib inline 
plt.scatter(X[0,:],X[1,:],c=Y,s=40,cmap = plt.cm.Spectral) #**






import torch 
import torch.nn as nn
import torch.nn.init as init
import torch.nn.functional as F
import math
# %matplotlib inline


import pandas as pd
xy = pd.read_csv('diabetes.csv',delimiter=',',dtype= np.float32)
#print(xy.head())
xy_numpy = xy.to_numpy() #pandas 转维numpy 为了后面numpy转tensor
x = xy_numpy[:,0:-1] # x为 768*8
y = xy_numpy[:,-1].reshape(-1,1) #为了让其shape为 768*1 ，而不是768



